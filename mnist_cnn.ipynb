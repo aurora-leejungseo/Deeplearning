{
  "nbformat": 4,
  "nbformat_minor": 0,
  "metadata": {
    "colab": {
      "name": "mnist-cnn.ipynb",
      "version": "0.3.2",
      "provenance": [],
      "collapsed_sections": []
    },
    "kernelspec": {
      "name": "python3",
      "display_name": "Python 3"
    },
    "accelerator": "GPU"
  },
  "cells": [
    {
      "cell_type": "code",
      "metadata": {
        "id": "W81yo-U73lHx",
        "colab_type": "code",
        "colab": {
          "base_uri": "https://localhost:8080/",
          "height": 54
        },
        "outputId": "b4c32377-2cae-4291-b504-f6c92ca5e407"
      },
      "source": [
        "from google.colab import drive\n",
        "drive.mount('/content/drive')"
      ],
      "execution_count": 50,
      "outputs": [
        {
          "output_type": "stream",
          "text": [
            "Drive already mounted at /content/drive; to attempt to forcibly remount, call drive.mount(\"/content/drive\", force_remount=True).\n"
          ],
          "name": "stdout"
        }
      ]
    },
    {
      "cell_type": "code",
      "metadata": {
        "id": "AX7PExVE3qgL",
        "colab_type": "code",
        "colab": {}
      },
      "source": [
        "from keras.datasets import mnist"
      ],
      "execution_count": 0,
      "outputs": []
    },
    {
      "cell_type": "code",
      "metadata": {
        "id": "Nh35zcXT4huD",
        "colab_type": "code",
        "colab": {}
      },
      "source": [
        "(X_train, y_train), (X_test, y_test) = mnist.load_data ()  #array정보로 데이터 읽어오기"
      ],
      "execution_count": 0,
      "outputs": []
    },
    {
      "cell_type": "code",
      "metadata": {
        "id": "2KuzaJ1Z40bC",
        "colab_type": "code",
        "colab": {
          "base_uri": "https://localhost:8080/",
          "height": 52
        },
        "outputId": "416455e1-cdce-4ed7-d713-9c9dbcec3e4d"
      },
      "source": [
        "print (X_train.shape)\n",
        "print (X_test.shape)"
      ],
      "execution_count": 53,
      "outputs": [
        {
          "output_type": "stream",
          "text": [
            "(60000, 28, 28)\n",
            "(10000, 28, 28)\n"
          ],
          "name": "stdout"
        }
      ]
    },
    {
      "cell_type": "code",
      "metadata": {
        "id": "3yRfQ1vf4-Oi",
        "colab_type": "code",
        "colab": {
          "base_uri": "https://localhost:8080/",
          "height": 52
        },
        "outputId": "6cbe1701-8f33-4b08-dcf2-8fec800a9816"
      },
      "source": [
        "print (y_train.shape)\n",
        "print (y_test.shape)"
      ],
      "execution_count": 54,
      "outputs": [
        {
          "output_type": "stream",
          "text": [
            "(60000,)\n",
            "(10000,)\n"
          ],
          "name": "stdout"
        }
      ]
    },
    {
      "cell_type": "code",
      "metadata": {
        "id": "W_XH1UxJ5BVy",
        "colab_type": "code",
        "colab": {}
      },
      "source": [
        "# tensor 변환 및 전환 tensor에 맞게 데이터 변환\n",
        "import numpy as np\n",
        "X_train = X_train.reshape (X_train.shape[0], 28, 28, 1).astype (np.float32) / 255   #0~255 인데 이것을 255로 나누었기때문에 범주가 0~1로\n",
        "X_test = X_test.reshape (X_test.shape[0], 28, 28, 1).astype (np.float32) / 255"
      ],
      "execution_count": 0,
      "outputs": []
    },
    {
      "cell_type": "code",
      "metadata": {
        "id": "tV8Rxd6s_GBL",
        "colab_type": "code",
        "colab": {}
      },
      "source": [
        "# Class label One hot encoding (이미 tensor 변환된 데이터를 이용하여 수치형 데이터를 범주형데이터로 바꿈)\n",
        "\n",
        "\n",
        "from keras.utils import np_utils\n",
        "\n",
        "y_train = np_utils.to_categorical(y_train)\n",
        "y_test = np_utils.to_categorical(y_test)\n"
      ],
      "execution_count": 0,
      "outputs": []
    },
    {
      "cell_type": "code",
      "metadata": {
        "id": "6vRZQRh7BTcK",
        "colab_type": "code",
        "colab": {
          "base_uri": "https://localhost:8080/",
          "height": 34
        },
        "outputId": "630c96b4-7f6d-4788-b8b1-5e4a97bec3de"
      },
      "source": [
        "y_train.shape    #(samples, labels)"
      ],
      "execution_count": 57,
      "outputs": [
        {
          "output_type": "execute_result",
          "data": {
            "text/plain": [
              "(60000, 10)"
            ]
          },
          "metadata": {
            "tags": []
          },
          "execution_count": 57
        }
      ]
    },
    {
      "cell_type": "code",
      "metadata": {
        "id": "xofN8dAsBedK",
        "colab_type": "code",
        "colab": {
          "base_uri": "https://localhost:8080/",
          "height": 34
        },
        "outputId": "2b5d172b-6c08-48f1-dfd9-8052b88901e4"
      },
      "source": [
        "y_train[0]"
      ],
      "execution_count": 58,
      "outputs": [
        {
          "output_type": "execute_result",
          "data": {
            "text/plain": [
              "array([0., 0., 0., 0., 0., 1., 0., 0., 0., 0.], dtype=float32)"
            ]
          },
          "metadata": {
            "tags": []
          },
          "execution_count": 58
        }
      ]
    },
    {
      "cell_type": "code",
      "metadata": {
        "id": "nLNFfgap7fnl",
        "colab_type": "code",
        "colab": {}
      },
      "source": [
        "# 모델 구성\n",
        "from keras.models import Sequential\n",
        "from keras.layers import Conv2D, MaxPooling2D, Dropout, Flatten, Dense"
      ],
      "execution_count": 0,
      "outputs": []
    },
    {
      "cell_type": "code",
      "metadata": {
        "id": "xXvqVp7i7_cL",
        "colab_type": "code",
        "colab": {}
      },
      "source": [
        "model = models.Sequential()\n",
        "\n",
        "model.add(layers.Conv2D (32, (3, 3), input_shape = (28, 28, 1), activation = 'relu'))\n",
        "\n",
        "model.add(layers.Conv2D (64, (3, 3), activation = 'relu'))\n",
        "\n",
        "model.add(layers.MaxPooling2D (pool_size = 2))\n",
        "          \n",
        "model.add(layers.Dropout(0.25))\n",
        "          \n",
        "model.add(layers.Flatten())\n",
        "          \n",
        "model.add(layers.Dense (128,activation = 'relu'))\n",
        "          \n",
        "model.add(layers.Dropout (0.5))\n",
        "          \n",
        "model.add(layers.Dense (10,activation = 'softmax'))\n",
        "          \n",
        "          \n",
        "model.compile(loss = 'categorical_crossentropy',\n",
        "             optimizer = 'adam',\n",
        "             metrics = ['acc'])"
      ],
      "execution_count": 0,
      "outputs": []
    },
    {
      "cell_type": "code",
      "metadata": {
        "id": "_wXNE9oECBTS",
        "colab_type": "code",
        "colab": {}
      },
      "source": [
        "from keras.callbacks import ModelCheckpoint, EarlyStopping"
      ],
      "execution_count": 0,
      "outputs": []
    },
    {
      "cell_type": "code",
      "metadata": {
        "id": "j_eWGVcg7gv0",
        "colab_type": "code",
        "colab": {}
      },
      "source": [
        "# early stopping 관련 call back 만들기 \n",
        "#ModelCheckpoint 콜백 함수는 Keras에서 모델을 학습할 때마다 중간중간에 콜백 형태로 알려줍니다\n",
        "\n",
        "\n",
        "model_path =\"/content/drive/My Drive/Colab_myworks/models/{epoch:02d}-{val_loss:.4f}.hdf5\"\n",
        "check_pointer = ModelCheckpoint(filepath = model_path, monitor = 'val_loss'\n",
        "                               , verbose = 1, save_best_only = True)\n",
        "early_stopper = EarlyStopping (monitor = 'val_loss', patience = 10)"
      ],
      "execution_count": 0,
      "outputs": []
    },
    {
      "cell_type": "code",
      "metadata": {
        "id": "S06HTJm1DUc_",
        "colab_type": "code",
        "colab": {
          "base_uri": "https://localhost:8080/",
          "height": 741
        },
        "outputId": "18fbf38e-99df-4f33-a6e2-1e78781a0ed0"
      },
      "source": [
        "history = model.fit (X_train, y_train, validation_data = (X_test, y_test),\n",
        "                    epochs = 30, batch_size = 200, verbose = 0, callbacks = [early_stopper, check_pointer])"
      ],
      "execution_count": 63,
      "outputs": [
        {
          "output_type": "stream",
          "text": [
            "\n",
            "Epoch 00001: val_loss improved from inf to 0.05759, saving model to /content/drive/My Drive/Colab_myworks/models/01-0.0576.hdf5\n",
            "\n",
            "Epoch 00002: val_loss improved from 0.05759 to 0.04190, saving model to /content/drive/My Drive/Colab_myworks/models/02-0.0419.hdf5\n",
            "\n",
            "Epoch 00003: val_loss improved from 0.04190 to 0.03456, saving model to /content/drive/My Drive/Colab_myworks/models/03-0.0346.hdf5\n",
            "\n",
            "Epoch 00004: val_loss did not improve from 0.03456\n",
            "\n",
            "Epoch 00005: val_loss improved from 0.03456 to 0.03239, saving model to /content/drive/My Drive/Colab_myworks/models/05-0.0324.hdf5\n",
            "\n",
            "Epoch 00006: val_loss improved from 0.03239 to 0.03042, saving model to /content/drive/My Drive/Colab_myworks/models/06-0.0304.hdf5\n",
            "\n",
            "Epoch 00007: val_loss improved from 0.03042 to 0.02835, saving model to /content/drive/My Drive/Colab_myworks/models/07-0.0284.hdf5\n",
            "\n",
            "Epoch 00008: val_loss did not improve from 0.02835\n",
            "\n",
            "Epoch 00009: val_loss improved from 0.02835 to 0.02707, saving model to /content/drive/My Drive/Colab_myworks/models/09-0.0271.hdf5\n",
            "\n",
            "Epoch 00010: val_loss improved from 0.02707 to 0.02361, saving model to /content/drive/My Drive/Colab_myworks/models/10-0.0236.hdf5\n",
            "\n",
            "Epoch 00011: val_loss did not improve from 0.02361\n",
            "\n",
            "Epoch 00012: val_loss did not improve from 0.02361\n",
            "\n",
            "Epoch 00013: val_loss did not improve from 0.02361\n",
            "\n",
            "Epoch 00014: val_loss did not improve from 0.02361\n",
            "\n",
            "Epoch 00015: val_loss did not improve from 0.02361\n",
            "\n",
            "Epoch 00016: val_loss did not improve from 0.02361\n",
            "\n",
            "Epoch 00017: val_loss did not improve from 0.02361\n",
            "\n",
            "Epoch 00018: val_loss did not improve from 0.02361\n",
            "\n",
            "Epoch 00019: val_loss did not improve from 0.02361\n",
            "\n",
            "Epoch 00020: val_loss did not improve from 0.02361\n"
          ],
          "name": "stdout"
        }
      ]
    },
    {
      "cell_type": "code",
      "metadata": {
        "id": "FjUYF0EqEnWn",
        "colab_type": "code",
        "colab": {
          "base_uri": "https://localhost:8080/",
          "height": 52
        },
        "outputId": "a29734d1-a9a9-4ebd-9cb2-a4dfd5832f97"
      },
      "source": [
        "model.evaluate (X_test, y_test)[1]"
      ],
      "execution_count": 64,
      "outputs": [
        {
          "output_type": "stream",
          "text": [
            "10000/10000 [==============================] - 1s 53us/step\n"
          ],
          "name": "stdout"
        },
        {
          "output_type": "execute_result",
          "data": {
            "text/plain": [
              "0.9933"
            ]
          },
          "metadata": {
            "tags": []
          },
          "execution_count": 64
        }
      ]
    },
    {
      "cell_type": "code",
      "metadata": {
        "id": "TrsyBF8WFNVD",
        "colab_type": "code",
        "colab": {}
      },
      "source": [
        "import matplotlib.pyplot as plt\n",
        "%matplotlib inline\n",
        "import numpy as np"
      ],
      "execution_count": 0,
      "outputs": []
    },
    {
      "cell_type": "code",
      "metadata": {
        "id": "E9-Wwva3FaA7",
        "colab_type": "code",
        "colab": {}
      },
      "source": [
        "y_val_loss = history.history['val_loss']"
      ],
      "execution_count": 0,
      "outputs": []
    },
    {
      "cell_type": "code",
      "metadata": {
        "id": "in-saisjFsTz",
        "colab_type": "code",
        "colab": {}
      },
      "source": [
        "y_loss = history.history['loss']"
      ],
      "execution_count": 0,
      "outputs": []
    },
    {
      "cell_type": "code",
      "metadata": {
        "id": "uJTBCRpuF52j",
        "colab_type": "code",
        "colab": {}
      },
      "source": [
        "x_epoch = np.arange (len(y_loss))"
      ],
      "execution_count": 0,
      "outputs": []
    },
    {
      "cell_type": "code",
      "metadata": {
        "id": "pBB-Jk6kGQIj",
        "colab_type": "code",
        "colab": {
          "base_uri": "https://localhost:8080/",
          "height": 286
        },
        "outputId": "d96cda4b-bfe0-4dfc-fb17-b15a0cf40952"
      },
      "source": [
        "plt.plot(x_epoch, y_val_loss, marker = '.', c = 'red', label = 'validation loss')\n",
        "plt.plot(x_epoch, y_loss, marker = '.', c = 'blue', label = 'train loss')\n",
        "plt.legend()"
      ],
      "execution_count": 69,
      "outputs": [
        {
          "output_type": "execute_result",
          "data": {
            "text/plain": [
              "<matplotlib.legend.Legend at 0x7fcde202f6a0>"
            ]
          },
          "metadata": {
            "tags": []
          },
          "execution_count": 69
        },
        {
          "output_type": "display_data",
          "data": {
            "image/png": "[encoded data removed]",
            "text/plain": [
              "<Figure size 432x288 with 1 Axes>"
            ]
          },
          "metadata": {
            "tags": []
          }
        }
      ]
    },
    {
      "cell_type": "code",
      "metadata": {
        "id": "SEd_qh75Gs0b",
        "colab_type": "code",
        "colab": {}
      },
      "source": [
        ""
      ],
      "execution_count": 0,
      "outputs": []
    }
  ]
}